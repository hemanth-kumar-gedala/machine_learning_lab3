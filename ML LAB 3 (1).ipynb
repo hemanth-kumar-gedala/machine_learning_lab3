{
 "cells": [
  {
   "cell_type": "code",
   "execution_count": 17,
   "id": "5fe3183f",
   "metadata": {},
   "outputs": [
    {
     "data": {
      "text/html": [
       "<div>\n",
       "<style scoped>\n",
       "    .dataframe tbody tr th:only-of-type {\n",
       "        vertical-align: middle;\n",
       "    }\n",
       "\n",
       "    .dataframe tbody tr th {\n",
       "        vertical-align: top;\n",
       "    }\n",
       "\n",
       "    .dataframe thead th {\n",
       "        text-align: right;\n",
       "    }\n",
       "</style>\n",
       "<table border=\"1\" class=\"dataframe\">\n",
       "  <thead>\n",
       "    <tr style=\"text-align: right;\">\n",
       "      <th></th>\n",
       "      <th>input</th>\n",
       "      <th>output</th>\n",
       "    </tr>\n",
       "  </thead>\n",
       "  <tbody>\n",
       "    <tr>\n",
       "      <th>0</th>\n",
       "      <td>px2+px+k=0 \\n7((-5)2-5)+k=0\\n 7(25-5)+k=0\\n140...</td>\n",
       "      <td>0.0</td>\n",
       "    </tr>\n",
       "    <tr>\n",
       "      <th>1</th>\n",
       "      <td>X= - b ± √b2 – 4ac/2a\\t\\nx=  - 3 ± √(3)2 -4(4)...</td>\n",
       "      <td>0.0</td>\n",
       "    </tr>\n",
       "    <tr>\n",
       "      <th>2</th>\n",
       "      <td>x2 + kx + 64=0 \\nx - 8x +k =0 \\nb - 4ac&gt;= 0\\n ...</td>\n",
       "      <td>0.0</td>\n",
       "    </tr>\n",
       "    <tr>\n",
       "      <th>3</th>\n",
       "      <td>\"X=- b ± squareroot(b^2-4ac) /2a\\n X= - (-2√2)...</td>\n",
       "      <td>0.0</td>\n",
       "    </tr>\n",
       "    <tr>\n",
       "      <th>4</th>\n",
       "      <td>X= -(-2√2)±√((2√2)^2+4(√(3 ))(2√3) )\\n\\n=2√2±√...</td>\n",
       "      <td>0.0</td>\n",
       "    </tr>\n",
       "    <tr>\n",
       "      <th>...</th>\n",
       "      <td>...</td>\n",
       "      <td>...</td>\n",
       "    </tr>\n",
       "    <tr>\n",
       "      <th>1122</th>\n",
       "      <td>(7P+ 2)²-4(2P+1) (7P-3)=0\\n(a+b)² a²+b²+2ab \\n...</td>\n",
       "      <td>5.0</td>\n",
       "    </tr>\n",
       "    <tr>\n",
       "      <th>1123</th>\n",
       "      <td>(7p+2)²-4(2p+1) (7p-3) 0\\n(a+b)² = a²+b²+2ab\\n...</td>\n",
       "      <td>5.0</td>\n",
       "    </tr>\n",
       "    <tr>\n",
       "      <th>1124</th>\n",
       "      <td>(7P+2)²-4 (2P+1) (7P-3)\\n= 49P²+4+23P - 4 (14P...</td>\n",
       "      <td>5.0</td>\n",
       "    </tr>\n",
       "    <tr>\n",
       "      <th>1125</th>\n",
       "      <td>(7p+2)² - 4(2p + 1)(7p - 3) = 0\\n49p²+ 4 + 28p...</td>\n",
       "      <td>5.0</td>\n",
       "    </tr>\n",
       "    <tr>\n",
       "      <th>1126</th>\n",
       "      <td>49p²+ 4 + 28p - 4(14p² - 6p + 7p - 3) = 0\\n49p...</td>\n",
       "      <td>5.0</td>\n",
       "    </tr>\n",
       "  </tbody>\n",
       "</table>\n",
       "<p>1127 rows × 2 columns</p>\n",
       "</div>"
      ],
      "text/plain": [
       "                                                  input  output\n",
       "0     px2+px+k=0 \\n7((-5)2-5)+k=0\\n 7(25-5)+k=0\\n140...     0.0\n",
       "1     X= - b ± √b2 – 4ac/2a\\t\\nx=  - 3 ± √(3)2 -4(4)...     0.0\n",
       "2     x2 + kx + 64=0 \\nx - 8x +k =0 \\nb - 4ac>= 0\\n ...     0.0\n",
       "3     \"X=- b ± squareroot(b^2-4ac) /2a\\n X= - (-2√2)...     0.0\n",
       "4     X= -(-2√2)±√((2√2)^2+4(√(3 ))(2√3) )\\n\\n=2√2±√...     0.0\n",
       "...                                                 ...     ...\n",
       "1122  (7P+ 2)²-4(2P+1) (7P-3)=0\\n(a+b)² a²+b²+2ab \\n...     5.0\n",
       "1123  (7p+2)²-4(2p+1) (7p-3) 0\\n(a+b)² = a²+b²+2ab\\n...     5.0\n",
       "1124  (7P+2)²-4 (2P+1) (7P-3)\\n= 49P²+4+23P - 4 (14P...     5.0\n",
       "1125  (7p+2)² - 4(2p + 1)(7p - 3) = 0\\n49p²+ 4 + 28p...     5.0\n",
       "1126  49p²+ 4 + 28p - 4(14p² - 6p + 7p - 3) = 0\\n49p...     5.0\n",
       "\n",
       "[1127 rows x 2 columns]"
      ]
     },
     "execution_count": 17,
     "metadata": {},
     "output_type": "execute_result"
    }
   ],
   "source": [
    "import numpy as np \n",
    "import pandas as pd \n",
    "training_data=pd.read_excel(r'C:\\Users\\hemanth\\Downloads\\ML DATA SET\\training (2).xlsx')\n",
    "\n",
    "\n",
    "training_data\n"
   ]
  },
  {
   "cell_type": "code",
   "execution_count": 18,
   "id": "f514782e",
   "metadata": {},
   "outputs": [
    {
     "data": {
      "text/html": [
       "<div>\n",
       "<style scoped>\n",
       "    .dataframe tbody tr th:only-of-type {\n",
       "        vertical-align: middle;\n",
       "    }\n",
       "\n",
       "    .dataframe tbody tr th {\n",
       "        vertical-align: top;\n",
       "    }\n",
       "\n",
       "    .dataframe thead th {\n",
       "        text-align: right;\n",
       "    }\n",
       "</style>\n",
       "<table border=\"1\" class=\"dataframe\">\n",
       "  <thead>\n",
       "    <tr style=\"text-align: right;\">\n",
       "      <th></th>\n",
       "      <th>Equation</th>\n",
       "      <th>output</th>\n",
       "    </tr>\n",
       "  </thead>\n",
       "  <tbody>\n",
       "    <tr>\n",
       "      <th>0</th>\n",
       "      <td>px2+px+k=0 \\n7((-5)2-5)+k=0\\n 7(25-5)+k=0\\n140...</td>\n",
       "      <td>0.000</td>\n",
       "    </tr>\n",
       "    <tr>\n",
       "      <th>1</th>\n",
       "      <td>3) 2x2+Px 15 to 2(-5)2x² + Px -15 = 0·\\n2 (-5)...</td>\n",
       "      <td>2.500</td>\n",
       "    </tr>\n",
       "    <tr>\n",
       "      <th>2</th>\n",
       "      <td>2x2+px-15=0 α=-5 αβ==-15/2 α+β=-b/a β=3/2 -5+3...</td>\n",
       "      <td>4.500</td>\n",
       "    </tr>\n",
       "    <tr>\n",
       "      <th>3</th>\n",
       "      <td>Given \\n2x2+px-15=0\\n-5 root -&gt; x=-5 \\n2(-5)2+...</td>\n",
       "      <td>5.000</td>\n",
       "    </tr>\n",
       "    <tr>\n",
       "      <th>4</th>\n",
       "      <td>d=192km t=2hrs u0= x\\nut = x+16\\ns=d/t= 192/2=...</td>\n",
       "      <td>1.250</td>\n",
       "    </tr>\n",
       "    <tr>\n",
       "      <th>...</th>\n",
       "      <td>...</td>\n",
       "      <td>...</td>\n",
       "    </tr>\n",
       "    <tr>\n",
       "      <th>65</th>\n",
       "      <td>Taking usual time as t and spud as S. \\t\\nt = ...</td>\n",
       "      <td>4.750</td>\n",
       "    </tr>\n",
       "    <tr>\n",
       "      <th>66</th>\n",
       "      <td>9x2-3ax + 1=0 \\nMethod : ax -b +c = 0\\nb2-4ac</td>\n",
       "      <td>1.000</td>\n",
       "    </tr>\n",
       "    <tr>\n",
       "      <th>67</th>\n",
       "      <td>9x2-3ax + 1=0 \\nMethod : ax -b +c = 0\\nb2-4ac\\...</td>\n",
       "      <td>2.000</td>\n",
       "    </tr>\n",
       "    <tr>\n",
       "      <th>68</th>\n",
       "      <td>Given equation is Comparing with \\nax2+ bx + c...</td>\n",
       "      <td>3.750</td>\n",
       "    </tr>\n",
       "    <tr>\n",
       "      <th>69</th>\n",
       "      <td>Given 9x2 - 3ax +1 has equal and real roots 2....</td>\n",
       "      <td>4.375</td>\n",
       "    </tr>\n",
       "  </tbody>\n",
       "</table>\n",
       "<p>70 rows × 2 columns</p>\n",
       "</div>"
      ],
      "text/plain": [
       "                                             Equation  output\n",
       "0   px2+px+k=0 \\n7((-5)2-5)+k=0\\n 7(25-5)+k=0\\n140...   0.000\n",
       "1   3) 2x2+Px 15 to 2(-5)2x² + Px -15 = 0·\\n2 (-5)...   2.500\n",
       "2   2x2+px-15=0 α=-5 αβ==-15/2 α+β=-b/a β=3/2 -5+3...   4.500\n",
       "3   Given \\n2x2+px-15=0\\n-5 root -> x=-5 \\n2(-5)2+...   5.000\n",
       "4   d=192km t=2hrs u0= x\\nut = x+16\\ns=d/t= 192/2=...   1.250\n",
       "..                                                ...     ...\n",
       "65  Taking usual time as t and spud as S. \\t\\nt = ...   4.750\n",
       "66      9x2-3ax + 1=0 \\nMethod : ax -b +c = 0\\nb2-4ac   1.000\n",
       "67  9x2-3ax + 1=0 \\nMethod : ax -b +c = 0\\nb2-4ac\\...   2.000\n",
       "68  Given equation is Comparing with \\nax2+ bx + c...   3.750\n",
       "69  Given 9x2 - 3ax +1 has equal and real roots 2....   4.375\n",
       "\n",
       "[70 rows x 2 columns]"
      ]
     },
     "execution_count": 18,
     "metadata": {},
     "output_type": "execute_result"
    }
   ],
   "source": [
    "testing_data=pd.read_excel(r'C:\\Users\\hemanth\\Downloads\\ML DATA SET\\testing (2).xlsx')\n",
    "\n",
    "testing_data"
   ]
  },
  {
   "cell_type": "code",
   "execution_count": 10,
   "id": "ea8d1516",
   "metadata": {},
   "outputs": [
    {
     "name": "stdout",
     "output_type": "stream",
     "text": [
      "Defaulting to user installation because normal site-packages is not writeable\n",
      "Requirement already satisfied: transformers in c:\\programdata\\anaconda3\\lib\\site-packages (2.1.1)\n",
      "Requirement already satisfied: numpy in c:\\programdata\\anaconda3\\lib\\site-packages (from transformers) (1.24.3)\n",
      "Requirement already satisfied: boto3 in c:\\programdata\\anaconda3\\lib\\site-packages (from transformers) (1.24.28)\n",
      "Requirement already satisfied: requests in c:\\programdata\\anaconda3\\lib\\site-packages (from transformers) (2.31.0)\n",
      "Requirement already satisfied: tqdm in c:\\programdata\\anaconda3\\lib\\site-packages (from transformers) (4.65.0)\n",
      "Requirement already satisfied: regex in c:\\programdata\\anaconda3\\lib\\site-packages (from transformers) (2022.7.9)\n",
      "Requirement already satisfied: sentencepiece in c:\\users\\hemanth\\appdata\\roaming\\python\\python311\\site-packages (from transformers) (0.1.99)\n",
      "Requirement already satisfied: sacremoses in c:\\programdata\\anaconda3\\lib\\site-packages (from transformers) (0.0.43)\n",
      "Requirement already satisfied: botocore<1.28.0,>=1.27.28 in c:\\programdata\\anaconda3\\lib\\site-packages (from boto3->transformers) (1.27.59)\n",
      "Requirement already satisfied: jmespath<2.0.0,>=0.7.1 in c:\\programdata\\anaconda3\\lib\\site-packages (from boto3->transformers) (0.10.0)\n",
      "Requirement already satisfied: s3transfer<0.7.0,>=0.6.0 in c:\\programdata\\anaconda3\\lib\\site-packages (from boto3->transformers) (0.6.0)\n",
      "Requirement already satisfied: charset-normalizer<4,>=2 in c:\\programdata\\anaconda3\\lib\\site-packages (from requests->transformers) (2.0.4)\n",
      "Requirement already satisfied: idna<4,>=2.5 in c:\\programdata\\anaconda3\\lib\\site-packages (from requests->transformers) (3.4)\n",
      "Requirement already satisfied: urllib3<3,>=1.21.1 in c:\\programdata\\anaconda3\\lib\\site-packages (from requests->transformers) (1.26.16)\n",
      "Requirement already satisfied: certifi>=2017.4.17 in c:\\programdata\\anaconda3\\lib\\site-packages (from requests->transformers) (2023.7.22)\n",
      "Requirement already satisfied: six in c:\\programdata\\anaconda3\\lib\\site-packages (from sacremoses->transformers) (1.16.0)\n",
      "Requirement already satisfied: click in c:\\programdata\\anaconda3\\lib\\site-packages (from sacremoses->transformers) (8.0.4)\n",
      "Requirement already satisfied: joblib in c:\\programdata\\anaconda3\\lib\\site-packages (from sacremoses->transformers) (1.2.0)\n",
      "Requirement already satisfied: colorama in c:\\programdata\\anaconda3\\lib\\site-packages (from tqdm->transformers) (0.4.6)\n",
      "Requirement already satisfied: python-dateutil<3.0.0,>=2.1 in c:\\programdata\\anaconda3\\lib\\site-packages (from botocore<1.28.0,>=1.27.28->boto3->transformers) (2.8.2)\n",
      "Note: you may need to restart the kernel to use updated packages.\n"
     ]
    }
   ],
   "source": [
    "pip install transformers"
   ]
  },
  {
   "cell_type": "code",
   "execution_count": 10,
   "id": "94875115",
   "metadata": {},
   "outputs": [
    {
     "name": "stdout",
     "output_type": "stream",
     "text": [
      "Defaulting to user installation because normal site-packages is not writeable\n",
      "Requirement already satisfied: sentence-transformers in c:\\users\\hemanth\\appdata\\roaming\\python\\python311\\site-packages (2.2.2)\n",
      "Requirement already satisfied: transformers<5.0.0,>=4.6.0 in c:\\users\\hemanth\\appdata\\roaming\\python\\python311\\site-packages (from sentence-transformers) (4.33.2)\n",
      "Requirement already satisfied: tqdm in c:\\programdata\\anaconda3\\lib\\site-packages (from sentence-transformers) (4.65.0)\n",
      "Requirement already satisfied: torch>=1.6.0 in c:\\users\\hemanth\\appdata\\roaming\\python\\python311\\site-packages (from sentence-transformers) (2.0.1)\n",
      "Requirement already satisfied: torchvision in c:\\users\\hemanth\\appdata\\roaming\\python\\python311\\site-packages (from sentence-transformers) (0.15.2)\n",
      "Requirement already satisfied: numpy in c:\\programdata\\anaconda3\\lib\\site-packages (from sentence-transformers) (1.24.3)\n",
      "Requirement already satisfied: scikit-learn in c:\\programdata\\anaconda3\\lib\\site-packages (from sentence-transformers) (1.3.0)\n",
      "Requirement already satisfied: scipy in c:\\programdata\\anaconda3\\lib\\site-packages (from sentence-transformers) (1.10.1)\n",
      "Requirement already satisfied: nltk in c:\\programdata\\anaconda3\\lib\\site-packages (from sentence-transformers) (3.8.1)\n",
      "Requirement already satisfied: sentencepiece in c:\\users\\hemanth\\appdata\\roaming\\python\\python311\\site-packages (from sentence-transformers) (0.1.99)\n",
      "Requirement already satisfied: huggingface-hub>=0.4.0 in c:\\users\\hemanth\\appdata\\roaming\\python\\python311\\site-packages (from sentence-transformers) (0.17.1)\n",
      "Requirement already satisfied: filelock in c:\\programdata\\anaconda3\\lib\\site-packages (from huggingface-hub>=0.4.0->sentence-transformers) (3.9.0)\n",
      "Requirement already satisfied: fsspec in c:\\programdata\\anaconda3\\lib\\site-packages (from huggingface-hub>=0.4.0->sentence-transformers) (2023.3.0)\n",
      "Requirement already satisfied: requests in c:\\programdata\\anaconda3\\lib\\site-packages (from huggingface-hub>=0.4.0->sentence-transformers) (2.31.0)\n",
      "Requirement already satisfied: pyyaml>=5.1 in c:\\programdata\\anaconda3\\lib\\site-packages (from huggingface-hub>=0.4.0->sentence-transformers) (6.0)\n",
      "Requirement already satisfied: typing-extensions>=3.7.4.3 in c:\\programdata\\anaconda3\\lib\\site-packages (from huggingface-hub>=0.4.0->sentence-transformers) (4.7.1)\n",
      "Requirement already satisfied: packaging>=20.9 in c:\\programdata\\anaconda3\\lib\\site-packages (from huggingface-hub>=0.4.0->sentence-transformers) (23.0)\n",
      "Requirement already satisfied: sympy in c:\\programdata\\anaconda3\\lib\\site-packages (from torch>=1.6.0->sentence-transformers) (1.11.1)\n",
      "Requirement already satisfied: networkx in c:\\programdata\\anaconda3\\lib\\site-packages (from torch>=1.6.0->sentence-transformers) (3.1)\n",
      "Requirement already satisfied: jinja2 in c:\\programdata\\anaconda3\\lib\\site-packages (from torch>=1.6.0->sentence-transformers) (3.1.2)\n",
      "Requirement already satisfied: colorama in c:\\programdata\\anaconda3\\lib\\site-packages (from tqdm->sentence-transformers) (0.4.6)\n",
      "Requirement already satisfied: regex!=2019.12.17 in c:\\programdata\\anaconda3\\lib\\site-packages (from transformers<5.0.0,>=4.6.0->sentence-transformers) (2022.7.9)\n",
      "Requirement already satisfied: tokenizers!=0.11.3,<0.14,>=0.11.1 in c:\\users\\hemanth\\appdata\\roaming\\python\\python311\\site-packages (from transformers<5.0.0,>=4.6.0->sentence-transformers) (0.13.3)\n",
      "Requirement already satisfied: safetensors>=0.3.1 in c:\\users\\hemanth\\appdata\\roaming\\python\\python311\\site-packages (from transformers<5.0.0,>=4.6.0->sentence-transformers) (0.3.3)\n",
      "Requirement already satisfied: click in c:\\programdata\\anaconda3\\lib\\site-packages (from nltk->sentence-transformers) (8.0.4)\n",
      "Requirement already satisfied: joblib in c:\\programdata\\anaconda3\\lib\\site-packages (from nltk->sentence-transformers) (1.2.0)\n",
      "Requirement already satisfied: threadpoolctl>=2.0.0 in c:\\programdata\\anaconda3\\lib\\site-packages (from scikit-learn->sentence-transformers) (2.2.0)\n",
      "Requirement already satisfied: pillow!=8.3.*,>=5.3.0 in c:\\programdata\\anaconda3\\lib\\site-packages (from torchvision->sentence-transformers) (9.4.0)\n",
      "Requirement already satisfied: MarkupSafe>=2.0 in c:\\programdata\\anaconda3\\lib\\site-packages (from jinja2->torch>=1.6.0->sentence-transformers) (2.1.1)\n",
      "Requirement already satisfied: charset-normalizer<4,>=2 in c:\\programdata\\anaconda3\\lib\\site-packages (from requests->huggingface-hub>=0.4.0->sentence-transformers) (2.0.4)\n",
      "Requirement already satisfied: idna<4,>=2.5 in c:\\programdata\\anaconda3\\lib\\site-packages (from requests->huggingface-hub>=0.4.0->sentence-transformers) (3.4)\n",
      "Requirement already satisfied: urllib3<3,>=1.21.1 in c:\\programdata\\anaconda3\\lib\\site-packages (from requests->huggingface-hub>=0.4.0->sentence-transformers) (1.26.16)\n",
      "Requirement already satisfied: certifi>=2017.4.17 in c:\\programdata\\anaconda3\\lib\\site-packages (from requests->huggingface-hub>=0.4.0->sentence-transformers) (2023.7.22)\n",
      "Requirement already satisfied: mpmath>=0.19 in c:\\programdata\\anaconda3\\lib\\site-packages (from sympy->torch>=1.6.0->sentence-transformers) (1.3.0)\n",
      "Note: you may need to restart the kernel to use updated packages.\n"
     ]
    }
   ],
   "source": [
    "pip install -U sentence-transformers"
   ]
  },
  {
   "cell_type": "code",
   "execution_count": 19,
   "id": "766389cd",
   "metadata": {},
   "outputs": [],
   "source": [
    "from sentence_transformers import SentenceTransformer\n",
    "model=SentenceTransformer('sentence-transformers/sentence-t5-base')\n",
    "testing_data['EmbeddingsLM']=testing_data['Equation'].apply(lambda x:model.encode(x))\n",
    "t5_test=pd.DataFrame(testing_data['EmbeddingsLM'].tolist(),index=testing_data.index).add_prefix('embed_')"
   ]
  },
  {
   "cell_type": "code",
   "execution_count": 20,
   "id": "fa849e6b",
   "metadata": {},
   "outputs": [],
   "source": [
    "from sentence_transformers import SentenceTransformer\n",
    "model=SentenceTransformer('sentence-transformers/sentence-t5-base')\n",
    "training_data['EmbeddingsLM']=training_data['input'].apply(lambda x:model.encode(str(x)))\n",
    "t5_train=pd.DataFrame(training_data['EmbeddingsLM'].tolist(),index=training_data.index).add_prefix('embed_')"
   ]
  },
  {
   "cell_type": "code",
   "execution_count": 32,
   "id": "8c471982",
   "metadata": {},
   "outputs": [
    {
     "data": {
      "text/plain": [
       "output\n",
       "0.000000    0.000000\n",
       "0.250000    0.250000\n",
       "0.375000    0.375000\n",
       "0.500000    0.500000\n",
       "0.750000    0.750000\n",
       "1.000000    1.000000\n",
       "1.250000    1.250000\n",
       "1.261364    1.261364\n",
       "1.750000    1.750000\n",
       "1.875000    1.875000\n",
       "2.000000    2.000000\n",
       "2.375000    2.375000\n",
       "2.500000    2.500000\n",
       "2.625000    2.625000\n",
       "2.660714    2.660714\n",
       "2.750000    2.750000\n",
       "3.000000    3.000000\n",
       "3.125000    3.125000\n",
       "3.250000    3.250000\n",
       "3.458333    3.458333\n",
       "3.500000    3.500000\n",
       "3.625000    3.625000\n",
       "3.750000    3.750000\n",
       "3.937500    3.937500\n",
       "4.000000    4.000000\n",
       "4.250000    4.250000\n",
       "4.375000    4.375000\n",
       "4.500000    4.500000\n",
       "4.750000    4.750000\n",
       "4.875000    4.875000\n",
       "5.000000    5.000000\n",
       "Name: output, dtype: float64"
      ]
     },
     "metadata": {},
     "output_type": "display_data"
    }
   ],
   "source": [
    "classes = df.groupby('output')['output'].mean()\n",
    " \n",
    "\n",
    "display(classes)"
   ]
  },
  {
   "cell_type": "code",
   "execution_count": 33,
   "id": "5bf1c01c",
   "metadata": {},
   "outputs": [
    {
     "data": {
      "text/plain": [
       "output\n",
       "0.000000    0.0\n",
       "0.250000    0.0\n",
       "0.375000    NaN\n",
       "0.500000    NaN\n",
       "0.750000    NaN\n",
       "1.000000    0.0\n",
       "1.250000    0.0\n",
       "1.261364    NaN\n",
       "1.750000    0.0\n",
       "1.875000    0.0\n",
       "2.000000    0.0\n",
       "2.375000    NaN\n",
       "2.500000    0.0\n",
       "2.625000    NaN\n",
       "2.660714    NaN\n",
       "2.750000    0.0\n",
       "3.000000    0.0\n",
       "3.125000    NaN\n",
       "3.250000    0.0\n",
       "3.458333    NaN\n",
       "3.500000    NaN\n",
       "3.625000    NaN\n",
       "3.750000    0.0\n",
       "3.937500    NaN\n",
       "4.000000    0.0\n",
       "4.250000    0.0\n",
       "4.375000    NaN\n",
       "4.500000    NaN\n",
       "4.750000    0.0\n",
       "4.875000    0.0\n",
       "5.000000    0.0\n",
       "Name: output, dtype: float64"
      ]
     },
     "metadata": {},
     "output_type": "display_data"
    }
   ],
   "source": [
    "classes_sd = df.groupby('output')['output'].std()\n",
    " \n",
    "\n",
    "display(classes_sd)"
   ]
  },
  {
   "cell_type": "code",
   "execution_count": 23,
   "id": "51bd2350",
   "metadata": {},
   "outputs": [
    {
     "name": "stdout",
     "output_type": "stream",
     "text": [
      "Intra-Class Spread for Class 2: 0.4001496732234955\n",
      "Intra-Class Spread for Class 3: 0.3766618072986603\n",
      "Inter-Class Distance: 0.11180766671895981\n"
     ]
    }
   ],
   "source": [
    "from sklearn.metrics import pairwise_distances\n",
    "class_2 = t5_train[training_data['output'] == 2] \n",
    "class_3 = t5_train[training_data['output'] == 3] \n",
    "\n",
    "class_2_centroid = np.mean(class_2, axis=0)\n",
    "class_3_centroid = np.mean(class_3, axis=0)\n",
    "\n",
    "\n",
    "intra_class_spread_2 = np.mean(pairwise_distances(class_2, [class_2_centroid]))\n",
    "intra_class_spread_3 = np.mean(pairwise_distances(class_3, [class_3_centroid]))\n",
    "\n",
    "inter_class_distance = np.linalg.norm(class_2_centroid - class_3_centroid)\n",
    "\n",
    "print(f\"Intra-Class Spread for Class 2: {intra_class_spread_2}\")\n",
    "print(f\"Intra-Class Spread for Class 3: {intra_class_spread_3}\")\n",
    "print(f\"Inter-Class Distance: {inter_class_distance}\")"
   ]
  },
  {
   "cell_type": "code",
   "execution_count": 24,
   "id": "208e0339",
   "metadata": {},
   "outputs": [
    {
     "name": "stdout",
     "output_type": "stream",
     "text": [
      "Centroid for Class 2:\n",
      "embed_0     -0.031106\n",
      "embed_1     -0.023400\n",
      "embed_2      0.029723\n",
      "embed_3      0.025665\n",
      "embed_4     -0.012012\n",
      "               ...   \n",
      "embed_763    0.045582\n",
      "embed_764    0.013111\n",
      "embed_765    0.005711\n",
      "embed_766   -0.015524\n",
      "embed_767   -0.020441\n",
      "Length: 768, dtype: float32\n",
      "Centroid for Class 3:\n",
      "embed_0     -0.037951\n",
      "embed_1     -0.028591\n",
      "embed_2      0.032577\n",
      "embed_3      0.025683\n",
      "embed_4     -0.017560\n",
      "               ...   \n",
      "embed_763    0.050057\n",
      "embed_764    0.008738\n",
      "embed_765   -0.001315\n",
      "embed_766   -0.015059\n",
      "embed_767   -0.018862\n",
      "Length: 768, dtype: float32\n"
     ]
    }
   ],
   "source": [
    "class_2_centroid = np.mean(class_2, axis=0)\n",
    "class_3_centroid = np.mean(class_3, axis=0)\n",
    "\n",
    "print(\"Centroid for Class 2:\")\n",
    "print(class_2_centroid)\n",
    "\n",
    "print(\"Centroid for Class 3:\")\n",
    "print(class_3_centroid)"
   ]
  },
  {
   "cell_type": "code",
   "execution_count": 25,
   "id": "12960fda",
   "metadata": {},
   "outputs": [
    {
     "name": "stdout",
     "output_type": "stream",
     "text": [
      "Standard Deviation for Class 2:\n",
      "embed_0      0.014434\n",
      "embed_1      0.014191\n",
      "embed_2      0.016214\n",
      "embed_3      0.015403\n",
      "embed_4      0.015401\n",
      "               ...   \n",
      "embed_763    0.015673\n",
      "embed_764    0.013112\n",
      "embed_765    0.014319\n",
      "embed_766    0.018266\n",
      "embed_767    0.016980\n",
      "Length: 768, dtype: float32\n",
      "Standard Deviation for Class 3:\n",
      "embed_0      0.015613\n",
      "embed_1      0.016008\n",
      "embed_2      0.012478\n",
      "embed_3      0.013279\n",
      "embed_4      0.014854\n",
      "               ...   \n",
      "embed_763    0.016168\n",
      "embed_764    0.012550\n",
      "embed_765    0.015888\n",
      "embed_766    0.016322\n",
      "embed_767    0.012241\n",
      "Length: 768, dtype: float32\n"
     ]
    }
   ],
   "source": [
    "std_dev_class_2 = np.std(class_2, axis=0)\n",
    "std_dev_class_3 = np.std(class_3, axis=0)\n",
    "\n",
    "print(\"Standard Deviation for Class 2:\")\n",
    "print(std_dev_class_2)\n",
    "\n",
    "print(\"Standard Deviation for Class 3:\")\n",
    "print(std_dev_class_3)"
   ]
  },
  {
   "cell_type": "code",
   "execution_count": 27,
   "id": "66de8893",
   "metadata": {},
   "outputs": [
    {
     "name": "stdout",
     "output_type": "stream",
     "text": [
      "Distance between Class 2 and Class 3 mean vectors:\n",
      "0.11180767\n"
     ]
    }
   ],
   "source": [
    "class_2_centroid = np.mean(class_2, axis=0)\n",
    "class_3_centroid = np.mean(class_3, axis=0)\n",
    "\n",
    "distance_between_two_classes = np.linalg.norm(class_2_centroid - class_3_centroid)\n",
    "\n",
    "print(\"Distance between Class 2 and Class 3 mean vectors:\")\n",
    "print(distance_between_two_classes)\n"
   ]
  },
  {
   "cell_type": "code",
   "execution_count": 28,
   "id": "2d481434",
   "metadata": {},
   "outputs": [
    {
     "data": {
      "image/png": "[encoded data removed]",
      "text/plain": [
       "<Figure size 640x480 with 1 Axes>"
      ]
     },
     "metadata": {},
     "output_type": "display_data"
    },
    {
     "name": "stdout",
     "output_type": "stream",
     "text": [
      "Mean of output: 2.8616844465058753\n",
      "Variance of output: 2.402811788864269\n"
     ]
    }
   ],
   "source": [
    "import pandas as pd\n",
    "import matplotlib.pyplot as plt\n",
    "\n",
    "df = pd.read_excel(r'C:\\Users\\hemanth\\Downloads\\ML DATA SET\\testing (2).xlsx')\n",
    "\n",
    "selected_feature = 'output'\n",
    "\n",
    "\n",
    "num_bins = 20  \n",
    "plt.hist(df[selected_feature], bins=num_bins, edgecolor='k')\n",
    "plt.xlabel(selected_feature)\n",
    "plt.ylabel('Frequency')\n",
    "plt.title(f'Histogram of {selected_feature}')\n",
    "plt.show()\n",
    "\n",
    "feature_mean = df[selected_feature].mean()\n",
    "feature_variance = df[selected_feature].var()\n",
    "\n",
    "print(f\"Mean of {selected_feature}: {feature_mean}\")\n",
    "print(f\"Variance of {selected_feature}: {feature_variance}\")\n"
   ]
  },
  {
   "cell_type": "code",
   "execution_count": 29,
   "id": "2b54028c",
   "metadata": {},
   "outputs": [
    {
     "data": {
      "image/png": "[encoded data removed]",
      "text/plain": [
       "<Figure size 640x480 with 1 Axes>"
      ]
     },
     "metadata": {},
     "output_type": "display_data"
    },
    {
     "name": "stdout",
     "output_type": "stream",
     "text": [
      "Mean of output: 2.8616844465058753\n",
      "Variance of output: 2.402811788864269\n"
     ]
    }
   ],
   "source": [
    "import pandas as pd\n",
    "import matplotlib.pyplot as plt\n",
    "\n",
    "df = pd.read_excel(r'C:\\Users\\hemanth\\Downloads\\ML DATA SET\\testing (2).xlsx')\n",
    "\n",
    "selected_feature = 'output'\n",
    "\n",
    "num_bins = 20  \n",
    "plt.hist(df[selected_feature], bins=num_bins, edgecolor='k')\n",
    "plt.xlabel(selected_feature)\n",
    "plt.ylabel('Frequency')\n",
    "plt.title(f'Histogram of {selected_feature}')\n",
    "plt.show()\n",
    "\n",
    "feature_mean = df[selected_feature].mean()\n",
    "feature_variance = df[selected_feature].var()\n",
    "\n",
    "print(f\"Mean of {selected_feature}: {feature_mean}\")\n",
    "print(f\"Variance of {selected_feature}: {feature_variance}\")"
   ]
  },
  {
   "cell_type": "code",
   "execution_count": 31,
   "id": "91d15c10",
   "metadata": {},
   "outputs": [
    {
     "name": "stderr",
     "output_type": "stream",
     "text": [
      "C:\\ProgramData\\anaconda3\\Lib\\site-packages\\numpy\\core\\fromnumeric.py:3464: RuntimeWarning: Mean of empty slice.\n",
      "  return _methods._mean(a, axis=axis, dtype=dtype,\n",
      "C:\\ProgramData\\anaconda3\\Lib\\site-packages\\numpy\\core\\_methods.py:192: RuntimeWarning: invalid value encountered in scalar divide\n",
      "  ret = ret.dtype.type(ret / rcount)\n"
     ]
    },
    {
     "data": {
      "image/png": "[encoded data removed]",
      "text/plain": [
       "<Figure size 640x480 with 1 Axes>"
      ]
     },
     "metadata": {},
     "output_type": "display_data"
    }
   ],
   "source": [
    "import pandas as pd\n",
    "import numpy as np\n",
    "import matplotlib.pyplot as plt\n",
    "\n",
    "df1 = pd.read_excel(r'C:\\Users\\hemanth\\Downloads\\ML DATA SET\\testing (2).xlsx')\n",
    " \n",
    "df2 = pd.read_excel(r'C:\\Users\\hemanth\\Downloads\\ML DATA SET\\training (2).xlsx')\n",
    "\n",
    "feature1 = df1['output'].values\n",
    "feature2 = df2['output'].values\n",
    "\n",
    "r_values = range(1, 11)\n",
    "\n",
    "distances1 = []\n",
    "distances2 = []\n",
    "\n",
    "for r in r_values:\n",
    "    minkowski_distances1 = []\n",
    "    minkowski_distances2 = []\n",
    "    \n",
    "    for i in range(len(feature1)):\n",
    "        for j in range(len(feature2)):\n",
    "            distance = np.abs(feature1[i] - feature2[j])**r\n",
    "            minkowski_distances1.append(distance**(1/r))\n",
    "    \n",
    "    mean_distance1 = np.mean(minkowski_distances1)\n",
    "    mean_distance2 = np.mean(minkowski_distances2)\n",
    "    \n",
    "    distances1.append(mean_distance1)\n",
    "    distances2.append(mean_distance2)\n",
    "\n",
    "plt.plot(r_values, distances1, label='Dataset 1', marker='o', linestyle='-')\n",
    "plt.plot(r_values, distances2, label='Dataset 2', marker='x', linestyle='-')\n",
    "plt.xlabel('r')\n",
    "plt.ylabel('Mean Minkowski Distance')\n",
    "plt.title('Mean Minkowski Distance vs. r')\n",
    "plt.legend()\n",
    "plt.grid(True)\n",
    "plt.show()"
   ]
  },
  {
   "cell_type": "code",
   "execution_count": 34,
   "id": "cb6c88ed",
   "metadata": {},
   "outputs": [
    {
     "ename": "ValueError",
     "evalue": "could not convert string to float: 'px2+px+k=0 \\n7((-5)2-5)+k=0\\n 7(25-5)+k=0\\n140+k=0\\nk=-140'",
     "output_type": "error",
     "traceback": [
      "\u001b[1;31m---------------------------------------------------------------------------\u001b[0m",
      "\u001b[1;31mValueError\u001b[0m                                Traceback (most recent call last)",
      "Cell \u001b[1;32mIn[34], line 5\u001b[0m\n\u001b[0;32m      2\u001b[0m \u001b[38;5;28;01mfrom\u001b[39;00m \u001b[38;5;21;01msklearn\u001b[39;00m\u001b[38;5;21;01m.\u001b[39;00m\u001b[38;5;21;01mneighbors\u001b[39;00m \u001b[38;5;28;01mimport\u001b[39;00m KNeighborsClassifier\n\u001b[0;32m      4\u001b[0m neigh \u001b[38;5;241m=\u001b[39m KNeighborsClassifier(n_neighbors\u001b[38;5;241m=\u001b[39m\u001b[38;5;241m3\u001b[39m)\n\u001b[1;32m----> 5\u001b[0m neigh\u001b[38;5;241m.\u001b[39mfit(df1, df2)\n",
      "File \u001b[1;32mC:\\ProgramData\\anaconda3\\Lib\\site-packages\\sklearn\\base.py:1151\u001b[0m, in \u001b[0;36m_fit_context.<locals>.decorator.<locals>.wrapper\u001b[1;34m(estimator, *args, **kwargs)\u001b[0m\n\u001b[0;32m   1144\u001b[0m     estimator\u001b[38;5;241m.\u001b[39m_validate_params()\n\u001b[0;32m   1146\u001b[0m \u001b[38;5;28;01mwith\u001b[39;00m config_context(\n\u001b[0;32m   1147\u001b[0m     skip_parameter_validation\u001b[38;5;241m=\u001b[39m(\n\u001b[0;32m   1148\u001b[0m         prefer_skip_nested_validation \u001b[38;5;129;01mor\u001b[39;00m global_skip_validation\n\u001b[0;32m   1149\u001b[0m     )\n\u001b[0;32m   1150\u001b[0m ):\n\u001b[1;32m-> 1151\u001b[0m     \u001b[38;5;28;01mreturn\u001b[39;00m fit_method(estimator, \u001b[38;5;241m*\u001b[39margs, \u001b[38;5;241m*\u001b[39m\u001b[38;5;241m*\u001b[39mkwargs)\n",
      "File \u001b[1;32mC:\\ProgramData\\anaconda3\\Lib\\site-packages\\sklearn\\neighbors\\_classification.py:228\u001b[0m, in \u001b[0;36mKNeighborsClassifier.fit\u001b[1;34m(self, X, y)\u001b[0m\n\u001b[0;32m    206\u001b[0m \u001b[38;5;129m@_fit_context\u001b[39m(\n\u001b[0;32m    207\u001b[0m     \u001b[38;5;66;03m# KNeighborsClassifier.metric is not validated yet\u001b[39;00m\n\u001b[0;32m    208\u001b[0m     prefer_skip_nested_validation\u001b[38;5;241m=\u001b[39m\u001b[38;5;28;01mFalse\u001b[39;00m\n\u001b[0;32m    209\u001b[0m )\n\u001b[0;32m    210\u001b[0m \u001b[38;5;28;01mdef\u001b[39;00m \u001b[38;5;21mfit\u001b[39m(\u001b[38;5;28mself\u001b[39m, X, y):\n\u001b[0;32m    211\u001b[0m \u001b[38;5;250m    \u001b[39m\u001b[38;5;124;03m\"\"\"Fit the k-nearest neighbors classifier from the training dataset.\u001b[39;00m\n\u001b[0;32m    212\u001b[0m \n\u001b[0;32m    213\u001b[0m \u001b[38;5;124;03m    Parameters\u001b[39;00m\n\u001b[1;32m   (...)\u001b[0m\n\u001b[0;32m    226\u001b[0m \u001b[38;5;124;03m        The fitted k-nearest neighbors classifier.\u001b[39;00m\n\u001b[0;32m    227\u001b[0m \u001b[38;5;124;03m    \"\"\"\u001b[39;00m\n\u001b[1;32m--> 228\u001b[0m     \u001b[38;5;28;01mreturn\u001b[39;00m \u001b[38;5;28mself\u001b[39m\u001b[38;5;241m.\u001b[39m_fit(X, y)\n",
      "File \u001b[1;32mC:\\ProgramData\\anaconda3\\Lib\\site-packages\\sklearn\\neighbors\\_base.py:456\u001b[0m, in \u001b[0;36mNeighborsBase._fit\u001b[1;34m(self, X, y)\u001b[0m\n\u001b[0;32m    454\u001b[0m \u001b[38;5;28;01mif\u001b[39;00m \u001b[38;5;28mself\u001b[39m\u001b[38;5;241m.\u001b[39m_get_tags()[\u001b[38;5;124m\"\u001b[39m\u001b[38;5;124mrequires_y\u001b[39m\u001b[38;5;124m\"\u001b[39m]:\n\u001b[0;32m    455\u001b[0m     \u001b[38;5;28;01mif\u001b[39;00m \u001b[38;5;129;01mnot\u001b[39;00m \u001b[38;5;28misinstance\u001b[39m(X, (KDTree, BallTree, NeighborsBase)):\n\u001b[1;32m--> 456\u001b[0m         X, y \u001b[38;5;241m=\u001b[39m \u001b[38;5;28mself\u001b[39m\u001b[38;5;241m.\u001b[39m_validate_data(\n\u001b[0;32m    457\u001b[0m             X, y, accept_sparse\u001b[38;5;241m=\u001b[39m\u001b[38;5;124m\"\u001b[39m\u001b[38;5;124mcsr\u001b[39m\u001b[38;5;124m\"\u001b[39m, multi_output\u001b[38;5;241m=\u001b[39m\u001b[38;5;28;01mTrue\u001b[39;00m, order\u001b[38;5;241m=\u001b[39m\u001b[38;5;124m\"\u001b[39m\u001b[38;5;124mC\u001b[39m\u001b[38;5;124m\"\u001b[39m\n\u001b[0;32m    458\u001b[0m         )\n\u001b[0;32m    460\u001b[0m     \u001b[38;5;28;01mif\u001b[39;00m is_classifier(\u001b[38;5;28mself\u001b[39m):\n\u001b[0;32m    461\u001b[0m         \u001b[38;5;66;03m# Classification targets require a specific format\u001b[39;00m\n\u001b[0;32m    462\u001b[0m         \u001b[38;5;28;01mif\u001b[39;00m y\u001b[38;5;241m.\u001b[39mndim \u001b[38;5;241m==\u001b[39m \u001b[38;5;241m1\u001b[39m \u001b[38;5;129;01mor\u001b[39;00m y\u001b[38;5;241m.\u001b[39mndim \u001b[38;5;241m==\u001b[39m \u001b[38;5;241m2\u001b[39m \u001b[38;5;129;01mand\u001b[39;00m y\u001b[38;5;241m.\u001b[39mshape[\u001b[38;5;241m1\u001b[39m] \u001b[38;5;241m==\u001b[39m \u001b[38;5;241m1\u001b[39m:\n",
      "File \u001b[1;32mC:\\ProgramData\\anaconda3\\Lib\\site-packages\\sklearn\\base.py:621\u001b[0m, in \u001b[0;36mBaseEstimator._validate_data\u001b[1;34m(self, X, y, reset, validate_separately, cast_to_ndarray, **check_params)\u001b[0m\n\u001b[0;32m    619\u001b[0m         y \u001b[38;5;241m=\u001b[39m check_array(y, input_name\u001b[38;5;241m=\u001b[39m\u001b[38;5;124m\"\u001b[39m\u001b[38;5;124my\u001b[39m\u001b[38;5;124m\"\u001b[39m, \u001b[38;5;241m*\u001b[39m\u001b[38;5;241m*\u001b[39mcheck_y_params)\n\u001b[0;32m    620\u001b[0m     \u001b[38;5;28;01melse\u001b[39;00m:\n\u001b[1;32m--> 621\u001b[0m         X, y \u001b[38;5;241m=\u001b[39m check_X_y(X, y, \u001b[38;5;241m*\u001b[39m\u001b[38;5;241m*\u001b[39mcheck_params)\n\u001b[0;32m    622\u001b[0m     out \u001b[38;5;241m=\u001b[39m X, y\n\u001b[0;32m    624\u001b[0m \u001b[38;5;28;01mif\u001b[39;00m \u001b[38;5;129;01mnot\u001b[39;00m no_val_X \u001b[38;5;129;01mand\u001b[39;00m check_params\u001b[38;5;241m.\u001b[39mget(\u001b[38;5;124m\"\u001b[39m\u001b[38;5;124mensure_2d\u001b[39m\u001b[38;5;124m\"\u001b[39m, \u001b[38;5;28;01mTrue\u001b[39;00m):\n",
      "File \u001b[1;32mC:\\ProgramData\\anaconda3\\Lib\\site-packages\\sklearn\\utils\\validation.py:1147\u001b[0m, in \u001b[0;36mcheck_X_y\u001b[1;34m(X, y, accept_sparse, accept_large_sparse, dtype, order, copy, force_all_finite, ensure_2d, allow_nd, multi_output, ensure_min_samples, ensure_min_features, y_numeric, estimator)\u001b[0m\n\u001b[0;32m   1142\u001b[0m         estimator_name \u001b[38;5;241m=\u001b[39m _check_estimator_name(estimator)\n\u001b[0;32m   1143\u001b[0m     \u001b[38;5;28;01mraise\u001b[39;00m \u001b[38;5;167;01mValueError\u001b[39;00m(\n\u001b[0;32m   1144\u001b[0m         \u001b[38;5;124mf\u001b[39m\u001b[38;5;124m\"\u001b[39m\u001b[38;5;132;01m{\u001b[39;00mestimator_name\u001b[38;5;132;01m}\u001b[39;00m\u001b[38;5;124m requires y to be passed, but the target y is None\u001b[39m\u001b[38;5;124m\"\u001b[39m\n\u001b[0;32m   1145\u001b[0m     )\n\u001b[1;32m-> 1147\u001b[0m X \u001b[38;5;241m=\u001b[39m check_array(\n\u001b[0;32m   1148\u001b[0m     X,\n\u001b[0;32m   1149\u001b[0m     accept_sparse\u001b[38;5;241m=\u001b[39maccept_sparse,\n\u001b[0;32m   1150\u001b[0m     accept_large_sparse\u001b[38;5;241m=\u001b[39maccept_large_sparse,\n\u001b[0;32m   1151\u001b[0m     dtype\u001b[38;5;241m=\u001b[39mdtype,\n\u001b[0;32m   1152\u001b[0m     order\u001b[38;5;241m=\u001b[39morder,\n\u001b[0;32m   1153\u001b[0m     copy\u001b[38;5;241m=\u001b[39mcopy,\n\u001b[0;32m   1154\u001b[0m     force_all_finite\u001b[38;5;241m=\u001b[39mforce_all_finite,\n\u001b[0;32m   1155\u001b[0m     ensure_2d\u001b[38;5;241m=\u001b[39mensure_2d,\n\u001b[0;32m   1156\u001b[0m     allow_nd\u001b[38;5;241m=\u001b[39mallow_nd,\n\u001b[0;32m   1157\u001b[0m     ensure_min_samples\u001b[38;5;241m=\u001b[39mensure_min_samples,\n\u001b[0;32m   1158\u001b[0m     ensure_min_features\u001b[38;5;241m=\u001b[39mensure_min_features,\n\u001b[0;32m   1159\u001b[0m     estimator\u001b[38;5;241m=\u001b[39mestimator,\n\u001b[0;32m   1160\u001b[0m     input_name\u001b[38;5;241m=\u001b[39m\u001b[38;5;124m\"\u001b[39m\u001b[38;5;124mX\u001b[39m\u001b[38;5;124m\"\u001b[39m,\n\u001b[0;32m   1161\u001b[0m )\n\u001b[0;32m   1163\u001b[0m y \u001b[38;5;241m=\u001b[39m _check_y(y, multi_output\u001b[38;5;241m=\u001b[39mmulti_output, y_numeric\u001b[38;5;241m=\u001b[39my_numeric, estimator\u001b[38;5;241m=\u001b[39mestimator)\n\u001b[0;32m   1165\u001b[0m check_consistent_length(X, y)\n",
      "File \u001b[1;32mC:\\ProgramData\\anaconda3\\Lib\\site-packages\\sklearn\\utils\\validation.py:917\u001b[0m, in \u001b[0;36mcheck_array\u001b[1;34m(array, accept_sparse, accept_large_sparse, dtype, order, copy, force_all_finite, ensure_2d, allow_nd, ensure_min_samples, ensure_min_features, estimator, input_name)\u001b[0m\n\u001b[0;32m    915\u001b[0m         array \u001b[38;5;241m=\u001b[39m xp\u001b[38;5;241m.\u001b[39mastype(array, dtype, copy\u001b[38;5;241m=\u001b[39m\u001b[38;5;28;01mFalse\u001b[39;00m)\n\u001b[0;32m    916\u001b[0m     \u001b[38;5;28;01melse\u001b[39;00m:\n\u001b[1;32m--> 917\u001b[0m         array \u001b[38;5;241m=\u001b[39m _asarray_with_order(array, order\u001b[38;5;241m=\u001b[39morder, dtype\u001b[38;5;241m=\u001b[39mdtype, xp\u001b[38;5;241m=\u001b[39mxp)\n\u001b[0;32m    918\u001b[0m \u001b[38;5;28;01mexcept\u001b[39;00m ComplexWarning \u001b[38;5;28;01mas\u001b[39;00m complex_warning:\n\u001b[0;32m    919\u001b[0m     \u001b[38;5;28;01mraise\u001b[39;00m \u001b[38;5;167;01mValueError\u001b[39;00m(\n\u001b[0;32m    920\u001b[0m         \u001b[38;5;124m\"\u001b[39m\u001b[38;5;124mComplex data not supported\u001b[39m\u001b[38;5;130;01m\\n\u001b[39;00m\u001b[38;5;132;01m{}\u001b[39;00m\u001b[38;5;130;01m\\n\u001b[39;00m\u001b[38;5;124m\"\u001b[39m\u001b[38;5;241m.\u001b[39mformat(array)\n\u001b[0;32m    921\u001b[0m     ) \u001b[38;5;28;01mfrom\u001b[39;00m \u001b[38;5;21;01mcomplex_warning\u001b[39;00m\n",
      "File \u001b[1;32mC:\\ProgramData\\anaconda3\\Lib\\site-packages\\sklearn\\utils\\_array_api.py:380\u001b[0m, in \u001b[0;36m_asarray_with_order\u001b[1;34m(array, dtype, order, copy, xp)\u001b[0m\n\u001b[0;32m    378\u001b[0m     array \u001b[38;5;241m=\u001b[39m numpy\u001b[38;5;241m.\u001b[39marray(array, order\u001b[38;5;241m=\u001b[39morder, dtype\u001b[38;5;241m=\u001b[39mdtype)\n\u001b[0;32m    379\u001b[0m \u001b[38;5;28;01melse\u001b[39;00m:\n\u001b[1;32m--> 380\u001b[0m     array \u001b[38;5;241m=\u001b[39m numpy\u001b[38;5;241m.\u001b[39masarray(array, order\u001b[38;5;241m=\u001b[39morder, dtype\u001b[38;5;241m=\u001b[39mdtype)\n\u001b[0;32m    382\u001b[0m \u001b[38;5;66;03m# At this point array is a NumPy ndarray. We convert it to an array\u001b[39;00m\n\u001b[0;32m    383\u001b[0m \u001b[38;5;66;03m# container that is consistent with the input's namespace.\u001b[39;00m\n\u001b[0;32m    384\u001b[0m \u001b[38;5;28;01mreturn\u001b[39;00m xp\u001b[38;5;241m.\u001b[39masarray(array)\n",
      "File \u001b[1;32mC:\\ProgramData\\anaconda3\\Lib\\site-packages\\pandas\\core\\generic.py:2070\u001b[0m, in \u001b[0;36mNDFrame.__array__\u001b[1;34m(self, dtype)\u001b[0m\n\u001b[0;32m   2069\u001b[0m \u001b[38;5;28;01mdef\u001b[39;00m \u001b[38;5;21m__array__\u001b[39m(\u001b[38;5;28mself\u001b[39m, dtype: npt\u001b[38;5;241m.\u001b[39mDTypeLike \u001b[38;5;241m|\u001b[39m \u001b[38;5;28;01mNone\u001b[39;00m \u001b[38;5;241m=\u001b[39m \u001b[38;5;28;01mNone\u001b[39;00m) \u001b[38;5;241m-\u001b[39m\u001b[38;5;241m>\u001b[39m np\u001b[38;5;241m.\u001b[39mndarray:\n\u001b[1;32m-> 2070\u001b[0m     \u001b[38;5;28;01mreturn\u001b[39;00m np\u001b[38;5;241m.\u001b[39masarray(\u001b[38;5;28mself\u001b[39m\u001b[38;5;241m.\u001b[39m_values, dtype\u001b[38;5;241m=\u001b[39mdtype)\n",
      "\u001b[1;31mValueError\u001b[0m: could not convert string to float: 'px2+px+k=0 \\n7((-5)2-5)+k=0\\n 7(25-5)+k=0\\n140+k=0\\nk=-140'"
     ]
    }
   ],
   "source": [
    "import numpy as np\n",
    "from sklearn.neighbors import KNeighborsClassifier\n",
    "\n",
    "neigh = KNeighborsClassifier(n_neighbors=3)\n",
    "neigh.fit(t5_train, )"
   ]
  },
  {
   "cell_type": "code",
   "execution_count": null,
   "id": "a3b89e3b",
   "metadata": {},
   "outputs": [],
   "source": []
  }
 ],
 "metadata": {
  "kernelspec": {
   "display_name": "Python 3 (ipykernel)",
   "language": "python",
   "name": "python3"
  },
  "language_info": {
   "codemirror_mode": {
    "name": "ipython",
    "version": 3
   },
   "file_extension": ".py",
   "mimetype": "text/x-python",
   "name": "python",
   "nbconvert_exporter": "python",
   "pygments_lexer": "ipython3",
   "version": "3.11.4"
  }
 },
 "nbformat": 4,
 "nbformat_minor": 5
}
